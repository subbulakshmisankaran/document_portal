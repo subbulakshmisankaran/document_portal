{
 "cells": [
  {
   "cell_type": "code",
   "execution_count": 3,
   "id": "dc9b6ba6",
   "metadata": {},
   "outputs": [],
   "source": [
    "import sys\n",
    "import traceback"
   ]
  },
  {
   "cell_type": "code",
   "execution_count": 9,
   "id": "1cdda32b",
   "metadata": {},
   "outputs": [],
   "source": [
    "from logger.custom_logger import CustomLogger"
   ]
  },
  {
   "cell_type": "code",
   "execution_count": 12,
   "id": "72b1f1c9",
   "metadata": {},
   "outputs": [],
   "source": [
    "__file__ = \"exception_experiments\"\n",
    "logger = CustomLogger().get_logger(__file__)"
   ]
  },
  {
   "cell_type": "markdown",
   "id": "bee443e7",
   "metadata": {},
   "source": [
    "tb_frame is an attribute of a traceback object that points to the execution frame where that step of the exception occurred.\n",
    "an execution frame is the live context (code + variables + position + link to caller) that Python uses to execute your code.\n",
    "\n",
    "A traceback (tb) has: tb_frame (the frame), tb_lineno (line number in that frame), tb_lasti (last instruction), and tb_next (previous caller in the stack).\n",
    "\n",
    "A frame object (types.FrameType) exposes things like:\n",
    "\n",
    "f_code → code object (co_filename, co_name)\n",
    "co_name: It’s the name of the code block being executed.\n",
    "\n",
    "f_locals / f_globals → local/global variables at that point\n",
    "\n",
    "f_back → caller’s frame"
   ]
  },
  {
   "cell_type": "code",
   "execution_count": 13,
   "id": "ef285cfe",
   "metadata": {},
   "outputs": [
    {
     "ename": "DcoumentPortalException",
     "evalue": "\n            Error in [/var/folders/sc/t6smw7hn54v6vbzt3l4d38k40000gn/T/ipykernel_87480/2360936600.py] at line: [22]\n            Message: division by zero\n            Traceback: \n            Traceback (most recent call last):\n  File \"/var/folders/sc/t6smw7hn54v6vbzt3l4d38k40000gn/T/ipykernel_87480/2360936600.py\", line 22, in <module>\n    a = 1/0\nZeroDivisionError: division by zero\n\n        ",
     "output_type": "error",
     "traceback": [
      "\u001b[0;31m---------------------------------------------------------------------------\u001b[0m",
      "\u001b[0;31mZeroDivisionError\u001b[0m                         Traceback (most recent call last)",
      "Cell \u001b[0;32mIn[13], line 22\u001b[0m\n\u001b[1;32m     20\u001b[0m \u001b[38;5;28;01mtry\u001b[39;00m:\n\u001b[1;32m     21\u001b[0m     \u001b[38;5;66;03m# simulate a division by zero error\u001b[39;00m\n\u001b[0;32m---> 22\u001b[0m     a \u001b[38;5;241m=\u001b[39m \u001b[38;5;241;43m1\u001b[39;49m\u001b[38;5;241;43m/\u001b[39;49m\u001b[38;5;241;43m0\u001b[39;49m\n\u001b[1;32m     23\u001b[0m     \u001b[38;5;28mprint\u001b[39m(a)\n",
      "\u001b[0;31mZeroDivisionError\u001b[0m: division by zero",
      "\nDuring handling of the above exception, another exception occurred:\n",
      "\u001b[0;31mDcoumentPortalException\u001b[0m                   Traceback (most recent call last)",
      "Cell \u001b[0;32mIn[13], line 27\u001b[0m\n\u001b[1;32m     25\u001b[0m doc_exception \u001b[38;5;241m=\u001b[39m DcoumentPortalException(e, sys)\n\u001b[1;32m     26\u001b[0m logger\u001b[38;5;241m.\u001b[39merror(doc_exception)\n\u001b[0;32m---> 27\u001b[0m \u001b[38;5;28;01mraise\u001b[39;00m doc_exception\n",
      "\u001b[0;31mDcoumentPortalException\u001b[0m: \n            Error in [/var/folders/sc/t6smw7hn54v6vbzt3l4d38k40000gn/T/ipykernel_87480/2360936600.py] at line: [22]\n            Message: division by zero\n            Traceback: \n            Traceback (most recent call last):\n  File \"/var/folders/sc/t6smw7hn54v6vbzt3l4d38k40000gn/T/ipykernel_87480/2360936600.py\", line 22, in <module>\n    a = 1/0\nZeroDivisionError: division by zero\n\n        "
     ]
    }
   ],
   "source": [
    "class DcoumentPortalException(Exception):\n",
    "    \"\"\" Custom exception module for document portal \"\"\"\n",
    "    def __init__(self, error_message:str, error_details:sys):\n",
    "        _, _, exception_tb = error_details.exc_info()\n",
    "        self.file_name = exception_tb.tb_frame.f_code.co_filename\n",
    "        self.line_no = exception_tb.tb_lineno\n",
    "        self.error_message = str(error_message)\n",
    "        self.tb_str = ''.join(traceback.format_exception(*error_details.exc_info()))\n",
    "\n",
    "    def __str__(self):\n",
    "        return f\"\"\"\n",
    "            Error in [{self.file_name}] at line: [{self.line_no}]\n",
    "            Message: {self.error_message}\n",
    "            Traceback: \n",
    "            {self.tb_str}\n",
    "        \"\"\"\n",
    "\n",
    "\n",
    "if __name__ == \"__main__\":\n",
    "    try:\n",
    "        # simulate a division by zero error\n",
    "        a = 1/0\n",
    "        print(a)\n",
    "    except Exception as e:\n",
    "        doc_exception = DcoumentPortalException(e, sys)\n",
    "        logger.error(doc_exception)\n",
    "        raise doc_exception\n",
    "\n"
   ]
  },
  {
   "cell_type": "code",
   "execution_count": null,
   "id": "88e58506",
   "metadata": {},
   "outputs": [],
   "source": []
  }
 ],
 "metadata": {
  "kernelspec": {
   "display_name": "Python 3",
   "language": "python",
   "name": "python3"
  },
  "language_info": {
   "codemirror_mode": {
    "name": "ipython",
    "version": 3
   },
   "file_extension": ".py",
   "mimetype": "text/x-python",
   "name": "python",
   "nbconvert_exporter": "python",
   "pygments_lexer": "ipython3",
   "version": "3.10.18"
  }
 },
 "nbformat": 4,
 "nbformat_minor": 5
}
