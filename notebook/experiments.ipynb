{
 "cells": [
  {
   "cell_type": "code",
   "execution_count": 10,
   "id": "8bb3a545",
   "metadata": {},
   "outputs": [],
   "source": [
    "from langchain_groq import ChatGroq"
   ]
  },
  {
   "cell_type": "code",
   "execution_count": 11,
   "id": "7b21f11b",
   "metadata": {},
   "outputs": [],
   "source": [
    "from dotenv import load_dotenv"
   ]
  },
  {
   "cell_type": "code",
   "execution_count": 12,
   "id": "d3aead2b",
   "metadata": {},
   "outputs": [
    {
     "data": {
      "text/plain": [
       "True"
      ]
     },
     "execution_count": 12,
     "metadata": {},
     "output_type": "execute_result"
    }
   ],
   "source": [
    "# Load env variables\n",
    "load_dotenv()"
   ]
  },
  {
   "cell_type": "code",
   "execution_count": 13,
   "id": "984828a8",
   "metadata": {},
   "outputs": [],
   "source": [
    "# Creating instance of LLM model\n",
    "llm_model = ChatGroq(model=\"qwen/qwen3-32b\")"
   ]
  },
  {
   "cell_type": "code",
   "execution_count": 14,
   "id": "7be1faa6",
   "metadata": {},
   "outputs": [
    {
     "data": {
      "text/plain": [
       "\"<think>\\nOkay, I need to explain the U.S. economy. Let me start by outlining the main components. The U.S. is a mixed economy, right? That means it has elements of both capitalism and government intervention. Maybe I should mention how it's the largest economy in the world in terms of nominal GDP. \\n\\nFirst, I should talk about the structure. The U.S. economy is driven by private enterprises, but the government plays a role in regulation and public services. The key sectors might include industries like technology, healthcare, finance, and manufacturing. Also, the service sector is a huge part of it.\\n\\nThen, there's the labor market. The U.S. has a high labor force participation rate, but there are issues like wage gaps and unemployment. Maybe mention the minimum wage and how it's set at the federal level but states can have higher rates.\\n\\nThe financial system is another area. The Federal Reserve is crucial here. They control monetary policy, set interest rates, and manage the money supply. The stock market is a big part of the U.S. economy too, with places like Wall Street and major exchanges like the NYSE and NASDAQ.\\n\\nTrade and international relations matter a lot. The U.S. is a major exporter and importer. Trade agreements like NAFTA (now USMCA) come to mind. Also, how the U.S. deals with trade deficits, especially with countries like China.\\n\\nInequality is a significant issue. The U.S. has a higher income inequality compared to other developed nations. The top 1% vs. the rest. Maybe mention the Gini coefficient or something about wealth distribution.\\n\\nTechnological innovation is a driver. Silicon Valley is a hub for tech startups. The U.S. leads in tech sectors, which contribute a lot to GDP and employment.\\n\\nGovernment policies and regulations. Taxation, both federal and state levels, play a role in economic growth. Fiscal policy, like government spending and taxation, works alongside monetary policy.\\n\\nEconomic challenges: things like inflation, which has been a concern recently post-pandemic. Also, the national debt and budget deficits. Healthcare costs are high, affecting both individuals and the economy as a whole.\\n\\nDemographics: an aging population might lead to issues with Social Security and Medicare. Immigration is also a factor in the labor market and economic growth.\\n\\nRecent events like the 2008 financial crisis, the 2020 pandemic's impact, and the response through stimulus packages. These events have shaped the current economic landscape.\\n\\nI should also mention key economic indicators like GDP growth rate, unemployment rate, inflation rate, and trade balance. Maybe give some recent stats if possible.\\n\\nWait, I need to make sure I don't mix up the structure. Start with the basics: type of economy, key sectors, financial system, labor market, trade, inequality, innovation, government role, challenges, and recent trends. Maybe organize it into sections for clarity.\\n\\nAlso, check if there's anything I'm missing. For example, the role of entrepreneurship and small businesses in the economy. Or the impact of education and workforce skills on the economy. Maybe environmental policies and the green economy?\\n\\nI need to present this in a clear, concise way without getting too technical. Use examples where possible. Avoid jargon unless explained. Make sure the flow is logical, starting from the structure and moving into specifics.\\n</think>\\n\\nThe U.S. economy is a dynamic, mixed-market system that combines private enterprise with government intervention, making it the largest in the world by nominal GDP. Here's a structured overview:\\n\\n### **1. Economic Structure**\\n- **Type:** Mixed economy, blending capitalism (private ownership, market competition) with government regulation and public services.\\n- **Key Sectors:**\\n  - **Service Sector:** Dominates GDP (~80%), including finance, healthcare, education, and technology.\\n  - **Industry and Manufacturing:** Known for innovation in sectors like aerospace, automotive, and pharmaceuticals.\\n  - **Agriculture:** A smaller but significant share, with the U.S. being a leading exporter of crops and livestock.\\n\\n### **2. Financial System**\\n- **Federal Reserve (the Fed):** Central bank managing monetary policy, setting interest rates, and controlling inflation.\\n- **Stock Markets:** Major exchanges like the NYSE and NASDAQ are global hubs for investment and capital raising.\\n- **Banking Sector:** A mix of national banks (e.g., JPMorgan Chase) and regional institutions, regulated to ensure stability.\\n\\n### **3. Labor Market**\\n- **Participation:** High labor force participation (around 60%), but disparities exist by gender, age, and education.\\n- **Challenges:** Wage inequality, gig economy growth, and debates over minimum wage (federal minimum at $7.25/hour, with higher state-level rates).\\n- **Unemployment:** Typically low (pre-pandemic: ~3.5%), but cyclical fluctuations occur during recessions.\\n\\n### **4. Trade and Global Influence**\\n- **Exports/Imports:** A major global trader, exporting goods like machinery, aircraft, and software. Imports include electronics and energy.\\n- **Trade Agreements:** Key partners include Canada, Mexico (via USMCA), China, and the EU. Trade deficits persist, especially with China.\\n- **Foreign Investment:** Attracts significant foreign capital, particularly in tech and real estate.\\n\\n### **5. Innovation and Technology**\\n- **Tech Hubs:** Silicon Valley leads in innovation, with breakthroughs in AI, biotechnology, and renewable energy.\\n- **Entrepreneurship:** A culture of startups and venture capital funding fuels economic dynamism.\\n- **Research & Development (R&D):** High R&D spending (3% of GDP) drives productivity and competitiveness.\\n\\n### **6. Economic Inequality**\\n- **Income Gaps:** The top 10% earn ~38% of income, while the bottom 50% earn ~13%. Wealth disparity is even starker.\\n- **Social Safety Nets:** Programs like Social Security and Medicare provide support, but debates on adequacy and sustainability persist.\\n\\n### **7. Government Role**\\n- **Fiscal Policy:** Federal spending, taxation, and deficit management shape the economy. Recent examples include stimulus checks during the 2020 pandemic.\\n- **Regulation:** Agencies like the FTC and EPA oversee markets and environmental standards.\\n- **Public Debt:** High national debt (~$34 trillion), raising concerns about long-term fiscal sustainability.\\n\\n### **8. Challenges and Trends**\\n- **Inflation:** Periodic spikes, notably post-2020, driven by supply chain disruptions and monetary stimulus.\\n- **Healthcare Costs:** The U.S. spends more on healthcare per capita than any other nation, impacting families and businesses.\\n- **Demographics:** An aging population strains Social Security and Medicare, while immigration influences labor supply.\\n- **Climate and Energy:** Shifting toward renewable energy, but fossil fuels still dominate energy production.\\n\\n### **9. Recent Economic Events**\\n- **2008 Financial Crisis:** Triggered by housing market collapse; led to the Great Recession and regulatory reforms.\\n- **2020 Pandemic:** Severe economic contraction followed by rapid recovery due to unprecedented fiscal and monetary stimulus.\\n- **Supply Chain Disruptions:** Global logistics challenges highlighted vulnerabilities in manufacturing and trade.\\n\\n### **Key Indicators (as of 2023)**\\n- **GDP:** ~$26.9 trillion (nominal).\\n- **Unemployment Rate:** ~3.7% (pre-pandemic levels).\\n- **Inflation Rate:** ~3.7% (after a peak of 9.1% in 2022).\\n- **Trade Deficit:** ~$100 billion per month, driven by energy and goods imports.\\n\\n### **Conclusion**\\nThe U.S. economy's strength lies in its innovation, adaptability, and global integration, but it faces challenges like inequality, debt, and systemic risks. Balancing growth with sustainability and equity remains a central policy focus.\""
      ]
     },
     "execution_count": 14,
     "metadata": {},
     "output_type": "execute_result"
    }
   ],
   "source": [
    "# Invoke the model for the answering the question\n",
    "llm_model.invoke(\"Can you explain about U.S economy?\").content"
   ]
  },
  {
   "cell_type": "code",
   "execution_count": 16,
   "id": "2eda6a7d",
   "metadata": {},
   "outputs": [],
   "source": [
    "from langchain_google_genai import GoogleGenerativeAIEmbeddings"
   ]
  },
  {
   "cell_type": "code",
   "execution_count": null,
   "id": "eca4c2d2",
   "metadata": {},
   "outputs": [],
   "source": [
    "# Create an instance of embedding model from Gemini\n",
    "embedding_model = GoogleGenerativeAIEmbeddings(model=\"models/embedding-001\")"
   ]
  },
  {
   "cell_type": "code",
   "execution_count": null,
   "id": "03af202b",
   "metadata": {},
   "outputs": [],
   "source": [
    "# Create embedding for the input query\n",
    "embeddings = embedding_model.embed_query(\"Explain U.S economy.\")"
   ]
  },
  {
   "cell_type": "code",
   "execution_count": 21,
   "id": "ed0b8e19",
   "metadata": {},
   "outputs": [
    {
     "data": {
      "text/plain": [
       "768"
      ]
     },
     "execution_count": 21,
     "metadata": {},
     "output_type": "execute_result"
    }
   ],
   "source": [
    "len(embeddings)"
   ]
  },
  {
   "cell_type": "code",
   "execution_count": null,
   "id": "4fb4a800",
   "metadata": {},
   "outputs": [],
   "source": []
  }
 ],
 "metadata": {
  "kernelspec": {
   "display_name": "Python 3",
   "language": "python",
   "name": "python3"
  },
  "language_info": {
   "codemirror_mode": {
    "name": "ipython",
    "version": 3
   },
   "file_extension": ".py",
   "mimetype": "text/x-python",
   "name": "python",
   "nbconvert_exporter": "python",
   "pygments_lexer": "ipython3",
   "version": "3.10.18"
  }
 },
 "nbformat": 4,
 "nbformat_minor": 5
}
