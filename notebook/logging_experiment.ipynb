{
 "cells": [
  {
   "cell_type": "code",
   "execution_count": 2,
   "id": "31889a34",
   "metadata": {},
   "outputs": [],
   "source": [
    "import logging\n",
    "import os\n",
    "from datetime import datetime"
   ]
  },
  {
   "cell_type": "code",
   "execution_count": null,
   "id": "85dbc963",
   "metadata": {},
   "outputs": [
    {
     "data": {
      "text/plain": [
       "'/Users/subbulakshmisankaran/AgenticAI/LLMOps/document_portal/notebook/logs'"
      ]
     },
     "execution_count": 6,
     "metadata": {},
     "output_type": "execute_result"
    }
   ],
   "source": [
    "# Path for storing logs\n",
    "logs_dir = os.path.join(os.getcwd(), \"logs\")\n",
    "logs_dir"
   ]
  },
  {
   "cell_type": "code",
   "execution_count": 7,
   "id": "01cfdfad",
   "metadata": {},
   "outputs": [],
   "source": [
    "os.makedirs(logs_dir, exist_ok=True)"
   ]
  },
  {
   "cell_type": "code",
   "execution_count": 11,
   "id": "1ffbe413",
   "metadata": {},
   "outputs": [
    {
     "data": {
      "text/plain": [
       "'08_17_2025_17_27_39.log'"
      ]
     },
     "execution_count": 11,
     "metadata": {},
     "output_type": "execute_result"
    }
   ],
   "source": [
    "# Create log file \n",
    "FILE_NAME = f\"{datetime.now().strftime('%m_%d_%Y_%H_%M_%S')}.log\"\n",
    "FILE_NAME"
   ]
  },
  {
   "cell_type": "code",
   "execution_count": 12,
   "id": "dfb46823",
   "metadata": {},
   "outputs": [
    {
     "data": {
      "text/plain": [
       "'/Users/subbulakshmisankaran/AgenticAI/LLMOps/document_portal/notebook/logs/08_17_2025_17_27_39.log'"
      ]
     },
     "execution_count": 12,
     "metadata": {},
     "output_type": "execute_result"
    }
   ],
   "source": [
    "LOG_FILE_PATH = os.path.join(logs_dir, FILE_NAME)\n",
    "LOG_FILE_PATH"
   ]
  },
  {
   "cell_type": "markdown",
   "id": "716be75b",
   "metadata": {},
   "source": [
    "Logger format string:  format = \"[%(asctime)s ] %(levelname)s %(name)s (line:%(lineno)d) - %(message)s\",\n",
    "\n",
    "%(asctime)s – timestamp when the record was created (use datefmt= to change its format).\n",
    "\n",
    "%(levelname)s – log level (e.g., INFO, WARNING, ERROR).\n",
    "\n",
    "%(name)s – logger name (e.g., \"root\" or the name you used in logging.getLogger(__name__)).\n",
    "\n",
    "%(lineno)d – source code line number where the logging call happened.\n",
    "\n",
    "%(message)s – the actual log message (after % formatting any args you passed to logger.info(\"x %s\", y))."
   ]
  },
  {
   "cell_type": "code",
   "execution_count": null,
   "id": "36bb90d2",
   "metadata": {},
   "outputs": [],
   "source": [
    "logging.basicConfig(\n",
    "    filename = LOG_FILE_PATH,\n",
    "    format = \"[%(asctime)s ] %(levelname)s %(name)s (line:%(lineno)d) - %(message)s\",\n",
    "    level = logging.INFO,\n",
    ")"
   ]
  }
 ],
 "metadata": {
  "kernelspec": {
   "display_name": "Python 3",
   "language": "python",
   "name": "python3"
  },
  "language_info": {
   "codemirror_mode": {
    "name": "ipython",
    "version": 3
   },
   "file_extension": ".py",
   "mimetype": "text/x-python",
   "name": "python",
   "nbconvert_exporter": "python",
   "pygments_lexer": "ipython3",
   "version": "3.10.18"
  }
 },
 "nbformat": 4,
 "nbformat_minor": 5
}
